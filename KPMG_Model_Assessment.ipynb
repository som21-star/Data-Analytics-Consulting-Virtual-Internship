{
  "nbformat": 4,
  "nbformat_minor": 0,
  "metadata": {
    "colab": {
      "name": "KPMG_Model_Assessment.ipynb",
      "provenance": [],
      "collapsed_sections": []
    },
    "kernelspec": {
      "name": "python3",
      "display_name": "Python 3"
    },
    "language_info": {
      "name": "python"
    }
  },
  "cells": [
    {
      "cell_type": "code",
      "metadata": {
        "id": "q_qmZGImNs21"
      },
      "source": [
        "import pandas as pd\n",
        "import numpy as np\n",
        "import seaborn as sns"
      ],
      "execution_count": 1,
      "outputs": []
    },
    {
      "cell_type": "code",
      "metadata": {
        "id": "qChx7498RMkk"
      },
      "source": [
        "txn_data = pd.read_excel(\"/content/KPMGData4Analysis.xlsx\")\n",
        "demographic = pd.read_excel(\"/content/KPMGData4Analysis.xlsx\",sheet_name = 1)\n",
        "address = pd.read_excel(\"/content/KPMGData4Analysis.xlsx\",sheet_name = 2)\n",
        "data = pd.read_excel(\"/content/KPMGData4Analysis.xlsx\",sheet_name = 3)"
      ],
      "execution_count": 2,
      "outputs": []
    },
    {
      "cell_type": "code",
      "metadata": {
        "colab": {
          "base_uri": "https://localhost:8080/",
          "height": 338
        },
        "id": "G17ZAlWtRzaf",
        "outputId": "bff7cac2-9ac8-4c20-ca17-1117da360153"
      },
      "source": [
        "txn_data.head(6)"
      ],
      "execution_count": null,
      "outputs": [
        {
          "output_type": "execute_result",
          "data": {
            "text/html": [
              "<div>\n",
              "<style scoped>\n",
              "    .dataframe tbody tr th:only-of-type {\n",
              "        vertical-align: middle;\n",
              "    }\n",
              "\n",
              "    .dataframe tbody tr th {\n",
              "        vertical-align: top;\n",
              "    }\n",
              "\n",
              "    .dataframe thead th {\n",
              "        text-align: right;\n",
              "    }\n",
              "</style>\n",
              "<table border=\"1\" class=\"dataframe\">\n",
              "  <thead>\n",
              "    <tr style=\"text-align: right;\">\n",
              "      <th></th>\n",
              "      <th>transaction_id</th>\n",
              "      <th>product_id</th>\n",
              "      <th>customer_id</th>\n",
              "      <th>transaction_date</th>\n",
              "      <th>online_order</th>\n",
              "      <th>order_status</th>\n",
              "      <th>brand</th>\n",
              "      <th>product_line</th>\n",
              "      <th>product_class</th>\n",
              "      <th>product_size</th>\n",
              "      <th>list_price</th>\n",
              "      <th>standard_cost</th>\n",
              "      <th>product_first_sold_date</th>\n",
              "    </tr>\n",
              "  </thead>\n",
              "  <tbody>\n",
              "    <tr>\n",
              "      <th>0</th>\n",
              "      <td>1</td>\n",
              "      <td>2</td>\n",
              "      <td>2950</td>\n",
              "      <td>2017-02-25</td>\n",
              "      <td>0.0</td>\n",
              "      <td>Approved</td>\n",
              "      <td>Solex</td>\n",
              "      <td>Standard</td>\n",
              "      <td>medium</td>\n",
              "      <td>medium</td>\n",
              "      <td>71.49</td>\n",
              "      <td>53.62</td>\n",
              "      <td>41245.0</td>\n",
              "    </tr>\n",
              "    <tr>\n",
              "      <th>1</th>\n",
              "      <td>2</td>\n",
              "      <td>3</td>\n",
              "      <td>3120</td>\n",
              "      <td>2017-05-21</td>\n",
              "      <td>1.0</td>\n",
              "      <td>Approved</td>\n",
              "      <td>Trek Bicycles</td>\n",
              "      <td>Standard</td>\n",
              "      <td>medium</td>\n",
              "      <td>large</td>\n",
              "      <td>2091.47</td>\n",
              "      <td>388.92</td>\n",
              "      <td>41701.0</td>\n",
              "    </tr>\n",
              "    <tr>\n",
              "      <th>2</th>\n",
              "      <td>3</td>\n",
              "      <td>37</td>\n",
              "      <td>402</td>\n",
              "      <td>2017-10-16</td>\n",
              "      <td>0.0</td>\n",
              "      <td>Approved</td>\n",
              "      <td>OHM Cycles</td>\n",
              "      <td>Standard</td>\n",
              "      <td>low</td>\n",
              "      <td>medium</td>\n",
              "      <td>1793.43</td>\n",
              "      <td>248.82</td>\n",
              "      <td>36361.0</td>\n",
              "    </tr>\n",
              "    <tr>\n",
              "      <th>3</th>\n",
              "      <td>4</td>\n",
              "      <td>88</td>\n",
              "      <td>3135</td>\n",
              "      <td>2017-08-31</td>\n",
              "      <td>0.0</td>\n",
              "      <td>Approved</td>\n",
              "      <td>Norco Bicycles</td>\n",
              "      <td>Standard</td>\n",
              "      <td>medium</td>\n",
              "      <td>medium</td>\n",
              "      <td>1198.46</td>\n",
              "      <td>381.10</td>\n",
              "      <td>36145.0</td>\n",
              "    </tr>\n",
              "    <tr>\n",
              "      <th>4</th>\n",
              "      <td>5</td>\n",
              "      <td>78</td>\n",
              "      <td>787</td>\n",
              "      <td>2017-10-01</td>\n",
              "      <td>1.0</td>\n",
              "      <td>Approved</td>\n",
              "      <td>Giant Bicycles</td>\n",
              "      <td>Standard</td>\n",
              "      <td>medium</td>\n",
              "      <td>large</td>\n",
              "      <td>1765.30</td>\n",
              "      <td>709.48</td>\n",
              "      <td>42226.0</td>\n",
              "    </tr>\n",
              "    <tr>\n",
              "      <th>5</th>\n",
              "      <td>6</td>\n",
              "      <td>25</td>\n",
              "      <td>2339</td>\n",
              "      <td>2017-03-08</td>\n",
              "      <td>1.0</td>\n",
              "      <td>Approved</td>\n",
              "      <td>Giant Bicycles</td>\n",
              "      <td>Road</td>\n",
              "      <td>medium</td>\n",
              "      <td>medium</td>\n",
              "      <td>1538.99</td>\n",
              "      <td>829.65</td>\n",
              "      <td>39031.0</td>\n",
              "    </tr>\n",
              "  </tbody>\n",
              "</table>\n",
              "</div>"
            ],
            "text/plain": [
              "   transaction_id  product_id  ...  standard_cost product_first_sold_date\n",
              "0               1           2  ...          53.62                 41245.0\n",
              "1               2           3  ...         388.92                 41701.0\n",
              "2               3          37  ...         248.82                 36361.0\n",
              "3               4          88  ...         381.10                 36145.0\n",
              "4               5          78  ...         709.48                 42226.0\n",
              "5               6          25  ...         829.65                 39031.0\n",
              "\n",
              "[6 rows x 13 columns]"
            ]
          },
          "metadata": {},
          "execution_count": 4
        }
      ]
    },
    {
      "cell_type": "code",
      "metadata": {
        "colab": {
          "base_uri": "https://localhost:8080/",
          "height": 371
        },
        "id": "XhQ7cNtcSE5N",
        "outputId": "ef6a68e1-999b-4a4c-cc69-0f927f9b21b8"
      },
      "source": [
        "demographic.head(6)"
      ],
      "execution_count": null,
      "outputs": [
        {
          "output_type": "execute_result",
          "data": {
            "text/html": [
              "<div>\n",
              "<style scoped>\n",
              "    .dataframe tbody tr th:only-of-type {\n",
              "        vertical-align: middle;\n",
              "    }\n",
              "\n",
              "    .dataframe tbody tr th {\n",
              "        vertical-align: top;\n",
              "    }\n",
              "\n",
              "    .dataframe thead th {\n",
              "        text-align: right;\n",
              "    }\n",
              "</style>\n",
              "<table border=\"1\" class=\"dataframe\">\n",
              "  <thead>\n",
              "    <tr style=\"text-align: right;\">\n",
              "      <th></th>\n",
              "      <th>customer_id</th>\n",
              "      <th>first_name</th>\n",
              "      <th>last_name</th>\n",
              "      <th>gender</th>\n",
              "      <th>past_3_years_bike_related_purchases</th>\n",
              "      <th>DOB</th>\n",
              "      <th>job_title</th>\n",
              "      <th>job_industry_category</th>\n",
              "      <th>wealth_segment</th>\n",
              "      <th>deceased_indicator</th>\n",
              "      <th>default</th>\n",
              "      <th>owns_car</th>\n",
              "      <th>tenure</th>\n",
              "    </tr>\n",
              "  </thead>\n",
              "  <tbody>\n",
              "    <tr>\n",
              "      <th>0</th>\n",
              "      <td>1</td>\n",
              "      <td>Laraine</td>\n",
              "      <td>Medendorp</td>\n",
              "      <td>F</td>\n",
              "      <td>93</td>\n",
              "      <td>1953-10-12</td>\n",
              "      <td>Executive Secretary</td>\n",
              "      <td>Health</td>\n",
              "      <td>Mass Customer</td>\n",
              "      <td>N</td>\n",
              "      <td>\"'</td>\n",
              "      <td>Yes</td>\n",
              "      <td>11.0</td>\n",
              "    </tr>\n",
              "    <tr>\n",
              "      <th>1</th>\n",
              "      <td>2</td>\n",
              "      <td>Eli</td>\n",
              "      <td>Bockman</td>\n",
              "      <td>Male</td>\n",
              "      <td>81</td>\n",
              "      <td>1980-12-16</td>\n",
              "      <td>Administrative Officer</td>\n",
              "      <td>Financial Services</td>\n",
              "      <td>Mass Customer</td>\n",
              "      <td>N</td>\n",
              "      <td>&lt;script&gt;alert('hi')&lt;/script&gt;</td>\n",
              "      <td>Yes</td>\n",
              "      <td>16.0</td>\n",
              "    </tr>\n",
              "    <tr>\n",
              "      <th>2</th>\n",
              "      <td>3</td>\n",
              "      <td>Arlin</td>\n",
              "      <td>Dearle</td>\n",
              "      <td>Male</td>\n",
              "      <td>61</td>\n",
              "      <td>1954-01-20</td>\n",
              "      <td>Recruiting Manager</td>\n",
              "      <td>Property</td>\n",
              "      <td>Mass Customer</td>\n",
              "      <td>N</td>\n",
              "      <td>2018-02-01 00:00:00</td>\n",
              "      <td>Yes</td>\n",
              "      <td>15.0</td>\n",
              "    </tr>\n",
              "    <tr>\n",
              "      <th>3</th>\n",
              "      <td>4</td>\n",
              "      <td>Talbot</td>\n",
              "      <td>NaN</td>\n",
              "      <td>Male</td>\n",
              "      <td>33</td>\n",
              "      <td>1961-10-03</td>\n",
              "      <td>NaN</td>\n",
              "      <td>IT</td>\n",
              "      <td>Mass Customer</td>\n",
              "      <td>N</td>\n",
              "      <td>() { _; } &gt;_[$($())] { touch /tmp/blns.shellsh...</td>\n",
              "      <td>No</td>\n",
              "      <td>7.0</td>\n",
              "    </tr>\n",
              "    <tr>\n",
              "      <th>4</th>\n",
              "      <td>5</td>\n",
              "      <td>Sheila-kathryn</td>\n",
              "      <td>Calton</td>\n",
              "      <td>Female</td>\n",
              "      <td>56</td>\n",
              "      <td>1977-05-13</td>\n",
              "      <td>Senior Editor</td>\n",
              "      <td>NaN</td>\n",
              "      <td>Affluent Customer</td>\n",
              "      <td>N</td>\n",
              "      <td>NIL</td>\n",
              "      <td>Yes</td>\n",
              "      <td>8.0</td>\n",
              "    </tr>\n",
              "    <tr>\n",
              "      <th>5</th>\n",
              "      <td>6</td>\n",
              "      <td>Curr</td>\n",
              "      <td>Duckhouse</td>\n",
              "      <td>Male</td>\n",
              "      <td>35</td>\n",
              "      <td>1966-09-16</td>\n",
              "      <td>NaN</td>\n",
              "      <td>Retail</td>\n",
              "      <td>High Net Worth</td>\n",
              "      <td>N</td>\n",
              "      <td>ðµ ð ð ð</td>\n",
              "      <td>Yes</td>\n",
              "      <td>13.0</td>\n",
              "    </tr>\n",
              "  </tbody>\n",
              "</table>\n",
              "</div>"
            ],
            "text/plain": [
              "   customer_id      first_name  ... owns_car tenure\n",
              "0            1         Laraine  ...      Yes   11.0\n",
              "1            2             Eli  ...      Yes   16.0\n",
              "2            3           Arlin  ...      Yes   15.0\n",
              "3            4          Talbot  ...       No    7.0\n",
              "4            5  Sheila-kathryn  ...      Yes    8.0\n",
              "5            6            Curr  ...      Yes   13.0\n",
              "\n",
              "[6 rows x 13 columns]"
            ]
          },
          "metadata": {},
          "execution_count": 5
        }
      ]
    },
    {
      "cell_type": "code",
      "metadata": {
        "colab": {
          "base_uri": "https://localhost:8080/",
          "height": 234
        },
        "id": "zqMcuXF0SKj4",
        "outputId": "3b3bb962-dc32-40cf-ac4c-f5a2862d4f95"
      },
      "source": [
        "address.head(6)"
      ],
      "execution_count": null,
      "outputs": [
        {
          "output_type": "execute_result",
          "data": {
            "text/html": [
              "<div>\n",
              "<style scoped>\n",
              "    .dataframe tbody tr th:only-of-type {\n",
              "        vertical-align: middle;\n",
              "    }\n",
              "\n",
              "    .dataframe tbody tr th {\n",
              "        vertical-align: top;\n",
              "    }\n",
              "\n",
              "    .dataframe thead th {\n",
              "        text-align: right;\n",
              "    }\n",
              "</style>\n",
              "<table border=\"1\" class=\"dataframe\">\n",
              "  <thead>\n",
              "    <tr style=\"text-align: right;\">\n",
              "      <th></th>\n",
              "      <th>customer_id</th>\n",
              "      <th>address</th>\n",
              "      <th>postcode</th>\n",
              "      <th>state</th>\n",
              "      <th>country</th>\n",
              "      <th>property_valuation</th>\n",
              "    </tr>\n",
              "  </thead>\n",
              "  <tbody>\n",
              "    <tr>\n",
              "      <th>0</th>\n",
              "      <td>1</td>\n",
              "      <td>060 Morning Avenue</td>\n",
              "      <td>2016</td>\n",
              "      <td>New South Wales</td>\n",
              "      <td>Australia</td>\n",
              "      <td>10</td>\n",
              "    </tr>\n",
              "    <tr>\n",
              "      <th>1</th>\n",
              "      <td>2</td>\n",
              "      <td>6 Meadow Vale Court</td>\n",
              "      <td>2153</td>\n",
              "      <td>New South Wales</td>\n",
              "      <td>Australia</td>\n",
              "      <td>10</td>\n",
              "    </tr>\n",
              "    <tr>\n",
              "      <th>2</th>\n",
              "      <td>4</td>\n",
              "      <td>0 Holy Cross Court</td>\n",
              "      <td>4211</td>\n",
              "      <td>QLD</td>\n",
              "      <td>Australia</td>\n",
              "      <td>9</td>\n",
              "    </tr>\n",
              "    <tr>\n",
              "      <th>3</th>\n",
              "      <td>5</td>\n",
              "      <td>17979 Del Mar Point</td>\n",
              "      <td>2448</td>\n",
              "      <td>New South Wales</td>\n",
              "      <td>Australia</td>\n",
              "      <td>4</td>\n",
              "    </tr>\n",
              "    <tr>\n",
              "      <th>4</th>\n",
              "      <td>6</td>\n",
              "      <td>9 Oakridge Court</td>\n",
              "      <td>3216</td>\n",
              "      <td>VIC</td>\n",
              "      <td>Australia</td>\n",
              "      <td>9</td>\n",
              "    </tr>\n",
              "    <tr>\n",
              "      <th>5</th>\n",
              "      <td>7</td>\n",
              "      <td>4 Delaware Trail</td>\n",
              "      <td>2210</td>\n",
              "      <td>New South Wales</td>\n",
              "      <td>Australia</td>\n",
              "      <td>9</td>\n",
              "    </tr>\n",
              "  </tbody>\n",
              "</table>\n",
              "</div>"
            ],
            "text/plain": [
              "   customer_id              address  ...    country property_valuation\n",
              "0            1   060 Morning Avenue  ...  Australia                 10\n",
              "1            2  6 Meadow Vale Court  ...  Australia                 10\n",
              "2            4   0 Holy Cross Court  ...  Australia                  9\n",
              "3            5  17979 Del Mar Point  ...  Australia                  4\n",
              "4            6     9 Oakridge Court  ...  Australia                  9\n",
              "5            7     4 Delaware Trail  ...  Australia                  9\n",
              "\n",
              "[6 rows x 6 columns]"
            ]
          },
          "metadata": {},
          "execution_count": 6
        }
      ]
    },
    {
      "cell_type": "code",
      "metadata": {
        "colab": {
          "base_uri": "https://localhost:8080/",
          "height": 472
        },
        "id": "eCx8SiR-SNsP",
        "outputId": "cb1c95bb-ec00-42c7-feb7-e789814c2722"
      },
      "source": [
        "data.head(6)"
      ],
      "execution_count": 3,
      "outputs": [
        {
          "output_type": "execute_result",
          "data": {
            "text/html": [
              "<div>\n",
              "<style scoped>\n",
              "    .dataframe tbody tr th:only-of-type {\n",
              "        vertical-align: middle;\n",
              "    }\n",
              "\n",
              "    .dataframe tbody tr th {\n",
              "        vertical-align: top;\n",
              "    }\n",
              "\n",
              "    .dataframe thead th {\n",
              "        text-align: right;\n",
              "    }\n",
              "</style>\n",
              "<table border=\"1\" class=\"dataframe\">\n",
              "  <thead>\n",
              "    <tr style=\"text-align: right;\">\n",
              "      <th></th>\n",
              "      <th>first_name</th>\n",
              "      <th>last_name</th>\n",
              "      <th>gender</th>\n",
              "      <th>past_3_years_bike_related_purchases</th>\n",
              "      <th>DOB</th>\n",
              "      <th>job_title</th>\n",
              "      <th>job_industry_category</th>\n",
              "      <th>wealth_segment</th>\n",
              "      <th>deceased_indicator</th>\n",
              "      <th>owns_car</th>\n",
              "      <th>tenure</th>\n",
              "      <th>address</th>\n",
              "      <th>postcode</th>\n",
              "      <th>state</th>\n",
              "      <th>country</th>\n",
              "      <th>property_valuation</th>\n",
              "      <th>Unnamed: 16</th>\n",
              "      <th>Rank</th>\n",
              "      <th>Value</th>\n",
              "    </tr>\n",
              "  </thead>\n",
              "  <tbody>\n",
              "    <tr>\n",
              "      <th>0</th>\n",
              "      <td>Chickie</td>\n",
              "      <td>Brister</td>\n",
              "      <td>Male</td>\n",
              "      <td>86</td>\n",
              "      <td>1957-07-12</td>\n",
              "      <td>General Manager</td>\n",
              "      <td>Manufacturing</td>\n",
              "      <td>Mass Customer</td>\n",
              "      <td>N</td>\n",
              "      <td>Yes</td>\n",
              "      <td>14</td>\n",
              "      <td>45 Shopko Center</td>\n",
              "      <td>4500</td>\n",
              "      <td>QLD</td>\n",
              "      <td>Australia</td>\n",
              "      <td>6</td>\n",
              "      <td>0.71</td>\n",
              "      <td>1</td>\n",
              "      <td>1.718750</td>\n",
              "    </tr>\n",
              "    <tr>\n",
              "      <th>1</th>\n",
              "      <td>Morly</td>\n",
              "      <td>Genery</td>\n",
              "      <td>Male</td>\n",
              "      <td>69</td>\n",
              "      <td>1970-03-22</td>\n",
              "      <td>Structural Engineer</td>\n",
              "      <td>Property</td>\n",
              "      <td>Mass Customer</td>\n",
              "      <td>N</td>\n",
              "      <td>No</td>\n",
              "      <td>16</td>\n",
              "      <td>14 Mccormick Park</td>\n",
              "      <td>2113</td>\n",
              "      <td>NSW</td>\n",
              "      <td>Australia</td>\n",
              "      <td>11</td>\n",
              "      <td>0.49</td>\n",
              "      <td>1</td>\n",
              "      <td>1.718750</td>\n",
              "    </tr>\n",
              "    <tr>\n",
              "      <th>2</th>\n",
              "      <td>Ardelis</td>\n",
              "      <td>Forrester</td>\n",
              "      <td>Female</td>\n",
              "      <td>10</td>\n",
              "      <td>1974-08-28</td>\n",
              "      <td>Senior Cost Accountant</td>\n",
              "      <td>Financial Services</td>\n",
              "      <td>Affluent Customer</td>\n",
              "      <td>N</td>\n",
              "      <td>No</td>\n",
              "      <td>10</td>\n",
              "      <td>5 Colorado Crossing</td>\n",
              "      <td>3505</td>\n",
              "      <td>VIC</td>\n",
              "      <td>Australia</td>\n",
              "      <td>5</td>\n",
              "      <td>0.49</td>\n",
              "      <td>1</td>\n",
              "      <td>1.718750</td>\n",
              "    </tr>\n",
              "    <tr>\n",
              "      <th>3</th>\n",
              "      <td>Lucine</td>\n",
              "      <td>Stutt</td>\n",
              "      <td>Female</td>\n",
              "      <td>64</td>\n",
              "      <td>1979-01-28</td>\n",
              "      <td>Account Representative III</td>\n",
              "      <td>Manufacturing</td>\n",
              "      <td>Affluent Customer</td>\n",
              "      <td>N</td>\n",
              "      <td>Yes</td>\n",
              "      <td>5</td>\n",
              "      <td>207 Annamark Plaza</td>\n",
              "      <td>4814</td>\n",
              "      <td>QLD</td>\n",
              "      <td>Australia</td>\n",
              "      <td>1</td>\n",
              "      <td>0.47</td>\n",
              "      <td>4</td>\n",
              "      <td>1.703125</td>\n",
              "    </tr>\n",
              "    <tr>\n",
              "      <th>4</th>\n",
              "      <td>Melinda</td>\n",
              "      <td>Hadlee</td>\n",
              "      <td>Female</td>\n",
              "      <td>34</td>\n",
              "      <td>1965-09-21</td>\n",
              "      <td>Financial Analyst</td>\n",
              "      <td>Financial Services</td>\n",
              "      <td>Affluent Customer</td>\n",
              "      <td>N</td>\n",
              "      <td>No</td>\n",
              "      <td>19</td>\n",
              "      <td>115 Montana Place</td>\n",
              "      <td>2093</td>\n",
              "      <td>NSW</td>\n",
              "      <td>Australia</td>\n",
              "      <td>9</td>\n",
              "      <td>0.74</td>\n",
              "      <td>4</td>\n",
              "      <td>1.703125</td>\n",
              "    </tr>\n",
              "    <tr>\n",
              "      <th>5</th>\n",
              "      <td>Druci</td>\n",
              "      <td>Brandli</td>\n",
              "      <td>Female</td>\n",
              "      <td>39</td>\n",
              "      <td>1951-04-29</td>\n",
              "      <td>Assistant Media Planner</td>\n",
              "      <td>Entertainment</td>\n",
              "      <td>High Net Worth</td>\n",
              "      <td>N</td>\n",
              "      <td>Yes</td>\n",
              "      <td>22</td>\n",
              "      <td>89105 Pearson Terrace</td>\n",
              "      <td>4075</td>\n",
              "      <td>QLD</td>\n",
              "      <td>Australia</td>\n",
              "      <td>7</td>\n",
              "      <td>0.92</td>\n",
              "      <td>6</td>\n",
              "      <td>1.671875</td>\n",
              "    </tr>\n",
              "  </tbody>\n",
              "</table>\n",
              "</div>"
            ],
            "text/plain": [
              "  first_name  last_name  gender  ...  Unnamed: 16 Rank     Value\n",
              "0    Chickie    Brister    Male  ...         0.71    1  1.718750\n",
              "1      Morly     Genery    Male  ...         0.49    1  1.718750\n",
              "2    Ardelis  Forrester  Female  ...         0.49    1  1.718750\n",
              "3     Lucine      Stutt  Female  ...         0.47    4  1.703125\n",
              "4    Melinda     Hadlee  Female  ...         0.74    4  1.703125\n",
              "5      Druci    Brandli  Female  ...         0.92    6  1.671875\n",
              "\n",
              "[6 rows x 19 columns]"
            ]
          },
          "metadata": {},
          "execution_count": 3
        }
      ]
    },
    {
      "cell_type": "markdown",
      "metadata": {
        "id": "ergUwpLlScMX"
      },
      "source": [
        "**Questions-Assumptions-Hypothesis-Recommendations**\n",
        "*1. We can make a null hypothesis that there is no relationship between Property Evaluation and Value. I would check whether Tenurity has an impact on the value or not. Based on the z_score and p-value we can conclude the assumption that we made*\n",
        "*2. If we look into the NewCustomerList dataset, we could regress the Value of the customer based on the explanatory variables. So we can assume that there is a linear relationship exists between the variables*\n",
        "*3. In the transaction tab Product Class and Product Size have same categories. It's redundant.*\n",
        "*4. A few features from Transactions tab could be significant to assess the customer value. So those variables can be added in NewCustomerList dataset considering the model building part*\n",
        "*5. What is meant by 'default' column in demographic sheet?*"
      ]
    },
    {
      "cell_type": "code",
      "metadata": {
        "id": "pyQzhv3TSQgx",
        "colab": {
          "base_uri": "https://localhost:8080/"
        },
        "outputId": "7f42c3c8-c51a-4e87-a6b7-c8d7c327c0cf"
      },
      "source": [
        "data.shape"
      ],
      "execution_count": 4,
      "outputs": [
        {
          "output_type": "execute_result",
          "data": {
            "text/plain": [
              "(1000, 19)"
            ]
          },
          "metadata": {},
          "execution_count": 4
        }
      ]
    },
    {
      "cell_type": "code",
      "metadata": {
        "colab": {
          "base_uri": "https://localhost:8080/"
        },
        "id": "MYpnE297xo4U",
        "outputId": "d865e5ad-446d-4ee4-a08f-85f340f9bedc"
      },
      "source": [
        "data.dtypes"
      ],
      "execution_count": 5,
      "outputs": [
        {
          "output_type": "execute_result",
          "data": {
            "text/plain": [
              "first_name                                     object\n",
              "last_name                                      object\n",
              "gender                                         object\n",
              "past_3_years_bike_related_purchases             int64\n",
              "DOB                                    datetime64[ns]\n",
              "job_title                                      object\n",
              "job_industry_category                          object\n",
              "wealth_segment                                 object\n",
              "deceased_indicator                             object\n",
              "owns_car                                       object\n",
              "tenure                                          int64\n",
              "address                                        object\n",
              "postcode                                        int64\n",
              "state                                          object\n",
              "country                                        object\n",
              "property_valuation                              int64\n",
              "Unnamed: 16                                   float64\n",
              "Rank                                            int64\n",
              "Value                                         float64\n",
              "dtype: object"
            ]
          },
          "metadata": {},
          "execution_count": 5
        }
      ]
    },
    {
      "cell_type": "code",
      "metadata": {
        "colab": {
          "base_uri": "https://localhost:8080/"
        },
        "id": "7xLHsJj_xsJM",
        "outputId": "5b6573f5-64c3-4e70-bb70-e8c21e7aa15f"
      },
      "source": [
        "data.info()"
      ],
      "execution_count": null,
      "outputs": [
        {
          "output_type": "stream",
          "name": "stdout",
          "text": [
            "<class 'pandas.core.frame.DataFrame'>\n",
            "RangeIndex: 1000 entries, 0 to 999\n",
            "Data columns (total 19 columns):\n",
            " #   Column                               Non-Null Count  Dtype         \n",
            "---  ------                               --------------  -----         \n",
            " 0   first_name                           1000 non-null   object        \n",
            " 1   last_name                            971 non-null    object        \n",
            " 2   gender                               1000 non-null   object        \n",
            " 3   past_3_years_bike_related_purchases  1000 non-null   int64         \n",
            " 4   DOB                                  983 non-null    datetime64[ns]\n",
            " 5   job_title                            894 non-null    object        \n",
            " 6   job_industry_category                835 non-null    object        \n",
            " 7   wealth_segment                       1000 non-null   object        \n",
            " 8   deceased_indicator                   1000 non-null   object        \n",
            " 9   owns_car                             1000 non-null   object        \n",
            " 10  tenure                               1000 non-null   int64         \n",
            " 11  address                              1000 non-null   object        \n",
            " 12  postcode                             1000 non-null   int64         \n",
            " 13  state                                1000 non-null   object        \n",
            " 14  country                              1000 non-null   object        \n",
            " 15  property_valuation                   1000 non-null   int64         \n",
            " 16  Unnamed: 16                          1000 non-null   float64       \n",
            " 17  Rank                                 1000 non-null   int64         \n",
            " 18  Value                                1000 non-null   float64       \n",
            "dtypes: datetime64[ns](1), float64(2), int64(5), object(11)\n",
            "memory usage: 148.6+ KB\n"
          ]
        }
      ]
    },
    {
      "cell_type": "code",
      "metadata": {
        "colab": {
          "base_uri": "https://localhost:8080/"
        },
        "id": "hL707alVx0Dv",
        "outputId": "5b1386c0-c2af-4d25-868a-5b4c114f2e34"
      },
      "source": [
        "data.isnull().sum()"
      ],
      "execution_count": 7,
      "outputs": [
        {
          "output_type": "execute_result",
          "data": {
            "text/plain": [
              "first_name                               0\n",
              "last_name                               29\n",
              "gender                                   0\n",
              "past_3_years_bike_related_purchases      0\n",
              "DOB                                     17\n",
              "job_title                              106\n",
              "job_industry_category                  165\n",
              "wealth_segment                           0\n",
              "deceased_indicator                       0\n",
              "owns_car                                 0\n",
              "tenure                                   0\n",
              "address                                  0\n",
              "postcode                                 0\n",
              "state                                    0\n",
              "country                                  0\n",
              "property_valuation                       0\n",
              "Unnamed: 16                              0\n",
              "Rank                                     0\n",
              "Value                                    0\n",
              "dtype: int64"
            ]
          },
          "metadata": {},
          "execution_count": 7
        }
      ]
    },
    {
      "cell_type": "code",
      "metadata": {
        "id": "U6jklo7Ix5YR"
      },
      "source": [
        "data = data.drop(['Unnamed: 16'],axis=1)"
      ],
      "execution_count": 8,
      "outputs": []
    },
    {
      "cell_type": "code",
      "metadata": {
        "colab": {
          "base_uri": "https://localhost:8080/"
        },
        "id": "Je529JETk05H",
        "outputId": "bee708cc-3910-4c54-b52f-43702e8af927"
      },
      "source": [
        "data['job_title'].value_counts()"
      ],
      "execution_count": null,
      "outputs": [
        {
          "output_type": "execute_result",
          "data": {
            "text/plain": [
              "Associate Professor           15\n",
              "Environmental Tech            14\n",
              "Software Consultant           14\n",
              "Chief Design Engineer         13\n",
              "Assistant Media Planner       12\n",
              "                              ..\n",
              "Staff Accountant I             1\n",
              "Programmer Analyst IV          1\n",
              "Staff Accountant III           1\n",
              "Administrative Assistant I     1\n",
              "Web Developer IV               1\n",
              "Name: job_title, Length: 184, dtype: int64"
            ]
          },
          "metadata": {},
          "execution_count": 12
        }
      ]
    },
    {
      "cell_type": "code",
      "metadata": {
        "colab": {
          "base_uri": "https://localhost:8080/"
        },
        "id": "teDqJ_0bv_uk",
        "outputId": "2c3a3379-4148-4771-8d98-5eb60b7a9dfb"
      },
      "source": [
        "data['job_industry_category'].value_counts()"
      ],
      "execution_count": 9,
      "outputs": [
        {
          "output_type": "execute_result",
          "data": {
            "text/plain": [
              "Financial Services    203\n",
              "Manufacturing         199\n",
              "Health                152\n",
              "Retail                 78\n",
              "Property               64\n",
              "IT                     51\n",
              "Entertainment          37\n",
              "Argiculture            26\n",
              "Telecommunications     25\n",
              "Name: job_industry_category, dtype: int64"
            ]
          },
          "metadata": {},
          "execution_count": 9
        }
      ]
    },
    {
      "cell_type": "code",
      "metadata": {
        "id": "e_7s1GR8nrmU"
      },
      "source": [
        "data['job_title'].fillna(data['job_title'].mode()[0], inplace=True)"
      ],
      "execution_count": null,
      "outputs": []
    },
    {
      "cell_type": "code",
      "metadata": {
        "id": "_yN_rw3pwsag"
      },
      "source": [
        "data['job_industry_category'].fillna(data['job_industry_category'].mode()[0], inplace=True)"
      ],
      "execution_count": 10,
      "outputs": []
    },
    {
      "cell_type": "code",
      "metadata": {
        "id": "RSHQH32ow9jA"
      },
      "source": [
        "data = data.dropna(how=\"any\",axis=0)"
      ],
      "execution_count": 11,
      "outputs": []
    },
    {
      "cell_type": "code",
      "metadata": {
        "colab": {
          "base_uri": "https://localhost:8080/"
        },
        "id": "lTYjXQLXoNRy",
        "outputId": "0e255770-39ee-44f8-a13c-a538c89c82a9"
      },
      "source": [
        "data.isnull().sum()"
      ],
      "execution_count": 12,
      "outputs": [
        {
          "output_type": "execute_result",
          "data": {
            "text/plain": [
              "first_name                             0\n",
              "last_name                              0\n",
              "gender                                 0\n",
              "past_3_years_bike_related_purchases    0\n",
              "DOB                                    0\n",
              "job_title                              0\n",
              "job_industry_category                  0\n",
              "wealth_segment                         0\n",
              "deceased_indicator                     0\n",
              "owns_car                               0\n",
              "tenure                                 0\n",
              "address                                0\n",
              "postcode                               0\n",
              "state                                  0\n",
              "country                                0\n",
              "property_valuation                     0\n",
              "Rank                                   0\n",
              "Value                                  0\n",
              "dtype: int64"
            ]
          },
          "metadata": {},
          "execution_count": 12
        }
      ]
    },
    {
      "cell_type": "code",
      "metadata": {
        "id": "FfDANyoFoblZ",
        "colab": {
          "base_uri": "https://localhost:8080/"
        },
        "outputId": "20bac2fc-87ec-4bee-e379-92e3be805cdb"
      },
      "source": [
        "data.shape"
      ],
      "execution_count": 13,
      "outputs": [
        {
          "output_type": "execute_result",
          "data": {
            "text/plain": [
              "(852, 18)"
            ]
          },
          "metadata": {},
          "execution_count": 13
        }
      ]
    },
    {
      "cell_type": "code",
      "metadata": {
        "colab": {
          "base_uri": "https://localhost:8080/",
          "height": 350
        },
        "id": "OnUBhN3ybEXl",
        "outputId": "42c8ca7c-7ff0-4f42-c018-7cf84231b763"
      },
      "source": [
        "sns.boxplot(data['property_valuation'])"
      ],
      "execution_count": 14,
      "outputs": [
        {
          "output_type": "stream",
          "name": "stderr",
          "text": [
            "/usr/local/lib/python3.7/dist-packages/seaborn/_decorators.py:43: FutureWarning: Pass the following variable as a keyword arg: x. From version 0.12, the only valid positional argument will be `data`, and passing other arguments without an explicit keyword will result in an error or misinterpretation.\n",
            "  FutureWarning\n"
          ]
        },
        {
          "output_type": "execute_result",
          "data": {
            "text/plain": [
              "<matplotlib.axes._subplots.AxesSubplot at 0x7fa417e98150>"
            ]
          },
          "metadata": {},
          "execution_count": 14
        },
        {
          "output_type": "display_data",
          "data": {
            "image/png": "[encoded data removed]",
            "text/plain": [
              "<Figure size 432x288 with 1 Axes>"
            ]
          },
          "metadata": {
            "needs_background": "light"
          }
        }
      ]
    },
    {
      "cell_type": "code",
      "metadata": {
        "id": "k1tNo_IViS2X"
      },
      "source": [
        "#Finding the IQR\n",
        "percentile25 = data['property_valuation'].quantile(0.25)\n",
        "percentile75 = data['property_valuation'].quantile(0.75)\n",
        "#Finding upper and lower limit\n",
        "iqr = percentile75-percentile25\n",
        "upper_limit = percentile75 + 1.5 * iqr\n",
        "lower_limit = percentile25 - 1.5 * iqr\n",
        "#using capping\n",
        "data['property_valuation'] = np.where(\n",
        "    data['property_valuation'] > upper_limit,\n",
        "    upper_limit,\n",
        "    np.where(\n",
        "        data['property_valuation'] < lower_limit,\n",
        "        lower_limit,\n",
        "        data['property_valuation']\n",
        "    )\n",
        ")"
      ],
      "execution_count": 15,
      "outputs": []
    },
    {
      "cell_type": "code",
      "metadata": {
        "colab": {
          "base_uri": "https://localhost:8080/",
          "height": 350
        },
        "id": "hZ8aEZZufdvD",
        "outputId": "aa403f2a-0866-48b8-b12a-6988b400487d"
      },
      "source": [
        "sns.boxplot(data['property_valuation'])"
      ],
      "execution_count": 16,
      "outputs": [
        {
          "output_type": "stream",
          "name": "stderr",
          "text": [
            "/usr/local/lib/python3.7/dist-packages/seaborn/_decorators.py:43: FutureWarning: Pass the following variable as a keyword arg: x. From version 0.12, the only valid positional argument will be `data`, and passing other arguments without an explicit keyword will result in an error or misinterpretation.\n",
            "  FutureWarning\n"
          ]
        },
        {
          "output_type": "execute_result",
          "data": {
            "text/plain": [
              "<matplotlib.axes._subplots.AxesSubplot at 0x7fa418133e50>"
            ]
          },
          "metadata": {},
          "execution_count": 16
        },
        {
          "output_type": "display_data",
          "data": {
            "image/png": "[encoded data removed]",
            "text/plain": [
              "<Figure size 432x288 with 1 Axes>"
            ]
          },
          "metadata": {
            "needs_background": "light"
          }
        }
      ]
    },
    {
      "cell_type": "code",
      "metadata": {
        "colab": {
          "base_uri": "https://localhost:8080/",
          "height": 300
        },
        "id": "j9LSHzCdfqG2",
        "outputId": "2a5b1786-5b57-4e92-dd87-d9f8cdf83771"
      },
      "source": [
        "sns.histplot(data['property_valuation'])"
      ],
      "execution_count": 17,
      "outputs": [
        {
          "output_type": "execute_result",
          "data": {
            "text/plain": [
              "<matplotlib.axes._subplots.AxesSubplot at 0x7fa417ee6650>"
            ]
          },
          "metadata": {},
          "execution_count": 17
        },
        {
          "output_type": "display_data",
          "data": {
            "image/png": "[encoded data removed]",
            "text/plain": [
              "<Figure size 432x288 with 1 Axes>"
            ]
          },
          "metadata": {
            "needs_background": "light"
          }
        }
      ]
    },
    {
      "cell_type": "code",
      "metadata": {
        "colab": {
          "base_uri": "https://localhost:8080/",
          "height": 296
        },
        "id": "v4kjioKAgHNF",
        "outputId": "358485c6-0463-462f-dd4b-76b655ea3c54"
      },
      "source": [
        "sns.histplot(data['Rank'])"
      ],
      "execution_count": 18,
      "outputs": [
        {
          "output_type": "execute_result",
          "data": {
            "text/plain": [
              "<matplotlib.axes._subplots.AxesSubplot at 0x7fa4189b6050>"
            ]
          },
          "metadata": {},
          "execution_count": 18
        },
        {
          "output_type": "display_data",
          "data": {
            "image/png": "[encoded data removed]",
            "text/plain": [
              "<Figure size 432x288 with 1 Axes>"
            ]
          },
          "metadata": {
            "needs_background": "light"
          }
        }
      ]
    },
    {
      "cell_type": "code",
      "metadata": {
        "colab": {
          "base_uri": "https://localhost:8080/",
          "height": 350
        },
        "id": "Sm5ZR9EMh2fL",
        "outputId": "d84bcace-e6a0-4384-d230-dd91f60426d9"
      },
      "source": [
        "sns.boxplot(data['Rank'])"
      ],
      "execution_count": 19,
      "outputs": [
        {
          "output_type": "stream",
          "name": "stderr",
          "text": [
            "/usr/local/lib/python3.7/dist-packages/seaborn/_decorators.py:43: FutureWarning: Pass the following variable as a keyword arg: x. From version 0.12, the only valid positional argument will be `data`, and passing other arguments without an explicit keyword will result in an error or misinterpretation.\n",
            "  FutureWarning\n"
          ]
        },
        {
          "output_type": "execute_result",
          "data": {
            "text/plain": [
              "<matplotlib.axes._subplots.AxesSubplot at 0x7fa41803f950>"
            ]
          },
          "metadata": {},
          "execution_count": 19
        },
        {
          "output_type": "display_data",
          "data": {
            "image/png": "[encoded data removed]",
            "text/plain": [
              "<Figure size 432x288 with 1 Axes>"
            ]
          },
          "metadata": {
            "needs_background": "light"
          }
        }
      ]
    },
    {
      "cell_type": "code",
      "metadata": {
        "colab": {
          "base_uri": "https://localhost:8080/"
        },
        "id": "CliXMVjxiHUn",
        "outputId": "c9e86567-c1da-4432-c7f0-3b773fb25416"
      },
      "source": [
        "data.columns"
      ],
      "execution_count": 20,
      "outputs": [
        {
          "output_type": "execute_result",
          "data": {
            "text/plain": [
              "Index(['first_name', 'last_name', 'gender',\n",
              "       'past_3_years_bike_related_purchases', 'DOB', 'job_title',\n",
              "       'job_industry_category', 'wealth_segment', 'deceased_indicator',\n",
              "       'owns_car', 'tenure', 'address', 'postcode', 'state', 'country',\n",
              "       'property_valuation', 'Rank', 'Value'],\n",
              "      dtype='object')"
            ]
          },
          "metadata": {},
          "execution_count": 20
        }
      ]
    },
    {
      "cell_type": "code",
      "metadata": {
        "colab": {
          "base_uri": "https://localhost:8080/"
        },
        "id": "MTPBDFpEc6T_",
        "outputId": "2404515d-22a2-42b2-f08e-42d835a4d0bc"
      },
      "source": [
        "data.dtypes"
      ],
      "execution_count": 21,
      "outputs": [
        {
          "output_type": "execute_result",
          "data": {
            "text/plain": [
              "first_name                                     object\n",
              "last_name                                      object\n",
              "gender                                         object\n",
              "past_3_years_bike_related_purchases             int64\n",
              "DOB                                    datetime64[ns]\n",
              "job_title                                      object\n",
              "job_industry_category                          object\n",
              "wealth_segment                                 object\n",
              "deceased_indicator                             object\n",
              "owns_car                                       object\n",
              "tenure                                          int64\n",
              "address                                        object\n",
              "postcode                                        int64\n",
              "state                                          object\n",
              "country                                        object\n",
              "property_valuation                            float64\n",
              "Rank                                            int64\n",
              "Value                                         float64\n",
              "dtype: object"
            ]
          },
          "metadata": {},
          "execution_count": 21
        }
      ]
    },
    {
      "cell_type": "code",
      "metadata": {
        "id": "XGBrNlStgfY8"
      },
      "source": [
        "data = data.drop(['deceased_indicator','country', 'postcode', 'address'],axis=1)"
      ],
      "execution_count": 22,
      "outputs": []
    },
    {
      "cell_type": "code",
      "metadata": {
        "id": "c7QYJieeiTGk"
      },
      "source": [
        ""
      ],
      "execution_count": null,
      "outputs": []
    },
    {
      "cell_type": "code",
      "metadata": {
        "colab": {
          "base_uri": "https://localhost:8080/",
          "height": 324
        },
        "id": "-yDYGJvGh3ES",
        "outputId": "536c4a0b-be31-4fb5-a838-6d12dd42a867"
      },
      "source": [
        "data.head()"
      ],
      "execution_count": null,
      "outputs": [
        {
          "output_type": "execute_result",
          "data": {
            "text/html": [
              "<div>\n",
              "<style scoped>\n",
              "    .dataframe tbody tr th:only-of-type {\n",
              "        vertical-align: middle;\n",
              "    }\n",
              "\n",
              "    .dataframe tbody tr th {\n",
              "        vertical-align: top;\n",
              "    }\n",
              "\n",
              "    .dataframe thead th {\n",
              "        text-align: right;\n",
              "    }\n",
              "</style>\n",
              "<table border=\"1\" class=\"dataframe\">\n",
              "  <thead>\n",
              "    <tr style=\"text-align: right;\">\n",
              "      <th></th>\n",
              "      <th>first_name</th>\n",
              "      <th>last_name</th>\n",
              "      <th>gender</th>\n",
              "      <th>past_3_years_bike_related_purchases</th>\n",
              "      <th>DOB</th>\n",
              "      <th>job_title</th>\n",
              "      <th>job_industry_category</th>\n",
              "      <th>wealth_segment</th>\n",
              "      <th>owns_car</th>\n",
              "      <th>tenure</th>\n",
              "      <th>state</th>\n",
              "      <th>property_valuation</th>\n",
              "      <th>Rank</th>\n",
              "      <th>Value</th>\n",
              "    </tr>\n",
              "  </thead>\n",
              "  <tbody>\n",
              "    <tr>\n",
              "      <th>0</th>\n",
              "      <td>Chickie</td>\n",
              "      <td>Brister</td>\n",
              "      <td>Male</td>\n",
              "      <td>86</td>\n",
              "      <td>1957-07-12</td>\n",
              "      <td>General Manager</td>\n",
              "      <td>Manufacturing</td>\n",
              "      <td>Mass Customer</td>\n",
              "      <td>Yes</td>\n",
              "      <td>14</td>\n",
              "      <td>QLD</td>\n",
              "      <td>6.0</td>\n",
              "      <td>1</td>\n",
              "      <td>1.718750</td>\n",
              "    </tr>\n",
              "    <tr>\n",
              "      <th>1</th>\n",
              "      <td>Morly</td>\n",
              "      <td>Genery</td>\n",
              "      <td>Male</td>\n",
              "      <td>69</td>\n",
              "      <td>1970-03-22</td>\n",
              "      <td>Structural Engineer</td>\n",
              "      <td>Property</td>\n",
              "      <td>Mass Customer</td>\n",
              "      <td>No</td>\n",
              "      <td>16</td>\n",
              "      <td>NSW</td>\n",
              "      <td>11.0</td>\n",
              "      <td>1</td>\n",
              "      <td>1.718750</td>\n",
              "    </tr>\n",
              "    <tr>\n",
              "      <th>2</th>\n",
              "      <td>Ardelis</td>\n",
              "      <td>Forrester</td>\n",
              "      <td>Female</td>\n",
              "      <td>10</td>\n",
              "      <td>1974-08-28</td>\n",
              "      <td>Senior Cost Accountant</td>\n",
              "      <td>Financial Services</td>\n",
              "      <td>Affluent Customer</td>\n",
              "      <td>No</td>\n",
              "      <td>10</td>\n",
              "      <td>VIC</td>\n",
              "      <td>5.0</td>\n",
              "      <td>1</td>\n",
              "      <td>1.718750</td>\n",
              "    </tr>\n",
              "    <tr>\n",
              "      <th>3</th>\n",
              "      <td>Lucine</td>\n",
              "      <td>Stutt</td>\n",
              "      <td>Female</td>\n",
              "      <td>64</td>\n",
              "      <td>1979-01-28</td>\n",
              "      <td>Account Representative III</td>\n",
              "      <td>Manufacturing</td>\n",
              "      <td>Affluent Customer</td>\n",
              "      <td>Yes</td>\n",
              "      <td>5</td>\n",
              "      <td>QLD</td>\n",
              "      <td>1.5</td>\n",
              "      <td>4</td>\n",
              "      <td>1.703125</td>\n",
              "    </tr>\n",
              "    <tr>\n",
              "      <th>4</th>\n",
              "      <td>Melinda</td>\n",
              "      <td>Hadlee</td>\n",
              "      <td>Female</td>\n",
              "      <td>34</td>\n",
              "      <td>1965-09-21</td>\n",
              "      <td>Financial Analyst</td>\n",
              "      <td>Financial Services</td>\n",
              "      <td>Affluent Customer</td>\n",
              "      <td>No</td>\n",
              "      <td>19</td>\n",
              "      <td>NSW</td>\n",
              "      <td>9.0</td>\n",
              "      <td>4</td>\n",
              "      <td>1.703125</td>\n",
              "    </tr>\n",
              "  </tbody>\n",
              "</table>\n",
              "</div>"
            ],
            "text/plain": [
              "  first_name  last_name  gender  ...  property_valuation Rank     Value\n",
              "0    Chickie    Brister    Male  ...                 6.0    1  1.718750\n",
              "1      Morly     Genery    Male  ...                11.0    1  1.718750\n",
              "2    Ardelis  Forrester  Female  ...                 5.0    1  1.718750\n",
              "3     Lucine      Stutt  Female  ...                 1.5    4  1.703125\n",
              "4    Melinda     Hadlee  Female  ...                 9.0    4  1.703125\n",
              "\n",
              "[5 rows x 14 columns]"
            ]
          },
          "metadata": {},
          "execution_count": 40
        }
      ]
    },
    {
      "cell_type": "code",
      "metadata": {
        "id": "U3i_OvI4g2Pl"
      },
      "source": [
        "import datetime as DT\n",
        "import io"
      ],
      "execution_count": 23,
      "outputs": []
    },
    {
      "cell_type": "code",
      "metadata": {
        "id": "Hq2E4JcwcJ5-"
      },
      "source": [
        "now = pd.Timestamp('now')\n",
        "data['DOB'] = pd.to_datetime(data['DOB'], format='%m%d%y')    # 1\n",
        "data['DOB'] = data['DOB'].where(data['DOB'] < now, data['DOB'] -  np.timedelta64(100, 'Y'))   # 2\n",
        "data['Age'] = (now - data['DOB']).astype('<m8[Y]')    # 3"
      ],
      "execution_count": 24,
      "outputs": []
    },
    {
      "cell_type": "code",
      "metadata": {
        "colab": {
          "base_uri": "https://localhost:8080/",
          "height": 324
        },
        "id": "rpbiSn3VcJ9r",
        "outputId": "baf63dea-6abb-4ddc-a5dc-b5ab07de6174"
      },
      "source": [
        "data.head()"
      ],
      "execution_count": null,
      "outputs": [
        {
          "output_type": "execute_result",
          "data": {
            "text/html": [
              "<div>\n",
              "<style scoped>\n",
              "    .dataframe tbody tr th:only-of-type {\n",
              "        vertical-align: middle;\n",
              "    }\n",
              "\n",
              "    .dataframe tbody tr th {\n",
              "        vertical-align: top;\n",
              "    }\n",
              "\n",
              "    .dataframe thead th {\n",
              "        text-align: right;\n",
              "    }\n",
              "</style>\n",
              "<table border=\"1\" class=\"dataframe\">\n",
              "  <thead>\n",
              "    <tr style=\"text-align: right;\">\n",
              "      <th></th>\n",
              "      <th>first_name</th>\n",
              "      <th>last_name</th>\n",
              "      <th>gender</th>\n",
              "      <th>past_3_years_bike_related_purchases</th>\n",
              "      <th>DOB</th>\n",
              "      <th>job_title</th>\n",
              "      <th>job_industry_category</th>\n",
              "      <th>wealth_segment</th>\n",
              "      <th>owns_car</th>\n",
              "      <th>tenure</th>\n",
              "      <th>state</th>\n",
              "      <th>property_valuation</th>\n",
              "      <th>Rank</th>\n",
              "      <th>Value</th>\n",
              "      <th>age</th>\n",
              "      <th>Age</th>\n",
              "    </tr>\n",
              "  </thead>\n",
              "  <tbody>\n",
              "    <tr>\n",
              "      <th>0</th>\n",
              "      <td>Chickie</td>\n",
              "      <td>Brister</td>\n",
              "      <td>Male</td>\n",
              "      <td>86</td>\n",
              "      <td>1957-07-12</td>\n",
              "      <td>General Manager</td>\n",
              "      <td>Manufacturing</td>\n",
              "      <td>Mass Customer</td>\n",
              "      <td>Yes</td>\n",
              "      <td>14</td>\n",
              "      <td>QLD</td>\n",
              "      <td>6.0</td>\n",
              "      <td>1</td>\n",
              "      <td>1.718750</td>\n",
              "      <td>64.0</td>\n",
              "      <td>64.0</td>\n",
              "    </tr>\n",
              "    <tr>\n",
              "      <th>1</th>\n",
              "      <td>Morly</td>\n",
              "      <td>Genery</td>\n",
              "      <td>Male</td>\n",
              "      <td>69</td>\n",
              "      <td>1970-03-22</td>\n",
              "      <td>Structural Engineer</td>\n",
              "      <td>Property</td>\n",
              "      <td>Mass Customer</td>\n",
              "      <td>No</td>\n",
              "      <td>16</td>\n",
              "      <td>NSW</td>\n",
              "      <td>11.0</td>\n",
              "      <td>1</td>\n",
              "      <td>1.718750</td>\n",
              "      <td>51.0</td>\n",
              "      <td>51.0</td>\n",
              "    </tr>\n",
              "    <tr>\n",
              "      <th>2</th>\n",
              "      <td>Ardelis</td>\n",
              "      <td>Forrester</td>\n",
              "      <td>Female</td>\n",
              "      <td>10</td>\n",
              "      <td>1974-08-28</td>\n",
              "      <td>Senior Cost Accountant</td>\n",
              "      <td>Financial Services</td>\n",
              "      <td>Affluent Customer</td>\n",
              "      <td>No</td>\n",
              "      <td>10</td>\n",
              "      <td>VIC</td>\n",
              "      <td>5.0</td>\n",
              "      <td>1</td>\n",
              "      <td>1.718750</td>\n",
              "      <td>47.0</td>\n",
              "      <td>47.0</td>\n",
              "    </tr>\n",
              "    <tr>\n",
              "      <th>3</th>\n",
              "      <td>Lucine</td>\n",
              "      <td>Stutt</td>\n",
              "      <td>Female</td>\n",
              "      <td>64</td>\n",
              "      <td>1979-01-28</td>\n",
              "      <td>Account Representative III</td>\n",
              "      <td>Manufacturing</td>\n",
              "      <td>Affluent Customer</td>\n",
              "      <td>Yes</td>\n",
              "      <td>5</td>\n",
              "      <td>QLD</td>\n",
              "      <td>1.5</td>\n",
              "      <td>4</td>\n",
              "      <td>1.703125</td>\n",
              "      <td>42.0</td>\n",
              "      <td>42.0</td>\n",
              "    </tr>\n",
              "    <tr>\n",
              "      <th>4</th>\n",
              "      <td>Melinda</td>\n",
              "      <td>Hadlee</td>\n",
              "      <td>Female</td>\n",
              "      <td>34</td>\n",
              "      <td>1965-09-21</td>\n",
              "      <td>Financial Analyst</td>\n",
              "      <td>Financial Services</td>\n",
              "      <td>Affluent Customer</td>\n",
              "      <td>No</td>\n",
              "      <td>19</td>\n",
              "      <td>NSW</td>\n",
              "      <td>9.0</td>\n",
              "      <td>4</td>\n",
              "      <td>1.703125</td>\n",
              "      <td>55.0</td>\n",
              "      <td>55.0</td>\n",
              "    </tr>\n",
              "  </tbody>\n",
              "</table>\n",
              "</div>"
            ],
            "text/plain": [
              "  first_name  last_name  gender  ...     Value   age   Age\n",
              "0    Chickie    Brister    Male  ...  1.718750  64.0  64.0\n",
              "1      Morly     Genery    Male  ...  1.718750  51.0  51.0\n",
              "2    Ardelis  Forrester  Female  ...  1.718750  47.0  47.0\n",
              "3     Lucine      Stutt  Female  ...  1.703125  42.0  42.0\n",
              "4    Melinda     Hadlee  Female  ...  1.703125  55.0  55.0\n",
              "\n",
              "[5 rows x 16 columns]"
            ]
          },
          "metadata": {},
          "execution_count": 45
        }
      ]
    },
    {
      "cell_type": "code",
      "metadata": {
        "id": "QGO5_ascdS6B"
      },
      "source": [
        "bins= [18,30,40,50,60,100]\n",
        "labels=[\"Young\",\"Matured\",\"Middle aged\",\"Senior\",\"Old\"]\n",
        "data[\"Age_Group\"]= pd.cut(data[\"Age\"],bins=bins,labels=labels, right=False)"
      ],
      "execution_count": 25,
      "outputs": []
    },
    {
      "cell_type": "code",
      "metadata": {
        "id": "Up6IZvDCb-gY"
      },
      "source": [
        "#This is for some sort of EDA "
      ],
      "execution_count": null,
      "outputs": []
    },
    {
      "cell_type": "code",
      "metadata": {
        "id": "KtBjVgzmb-nh"
      },
      "source": [
        ""
      ],
      "execution_count": null,
      "outputs": []
    },
    {
      "cell_type": "code",
      "metadata": {
        "id": "-P7pu0ZBfMtJ"
      },
      "source": [
        "cols = ['first_name', 'last_name', 'gender', 'job_title', 'job_industry_category', 'wealth_segment', 'owns_car', 'state']"
      ],
      "execution_count": 28,
      "outputs": []
    },
    {
      "cell_type": "code",
      "metadata": {
        "id": "r-IjxyV6jm9O"
      },
      "source": [
        "df = pd.get_dummies(data=data.drop(['Value','Rank','property_valuation','DOB','past_3_years_bike_related_purchases','Age','tenure'],axis=1), drop_first=True)"
      ],
      "execution_count": 49,
      "outputs": []
    },
    {
      "cell_type": "code",
      "metadata": {
        "colab": {
          "base_uri": "https://localhost:8080/"
        },
        "id": "vOYmTm7Ih_ze",
        "outputId": "346cfee2-905c-4a1d-ba08-d6ef70d8ec5f"
      },
      "source": [
        "df.shape"
      ],
      "execution_count": 50,
      "outputs": [
        {
          "output_type": "execute_result",
          "data": {
            "text/plain": [
              "(852, 1850)"
            ]
          },
          "metadata": {},
          "execution_count": 50
        }
      ]
    },
    {
      "cell_type": "code",
      "metadata": {
        "colab": {
          "base_uri": "https://localhost:8080/"
        },
        "id": "LX0-1VTRh_2t",
        "outputId": "3b660244-dd4a-4d4e-a837-2896e012cf62"
      },
      "source": [
        "data.columns"
      ],
      "execution_count": 32,
      "outputs": [
        {
          "output_type": "execute_result",
          "data": {
            "text/plain": [
              "Index(['first_name', 'last_name', 'gender',\n",
              "       'past_3_years_bike_related_purchases', 'DOB', 'job_title',\n",
              "       'job_industry_category', 'wealth_segment', 'owns_car', 'tenure',\n",
              "       'state', 'property_valuation', 'Rank', 'Value', 'Age', 'Age_Group'],\n",
              "      dtype='object')"
            ]
          },
          "metadata": {},
          "execution_count": 32
        }
      ]
    },
    {
      "cell_type": "code",
      "metadata": {
        "id": "nHKrrFCnjnAv"
      },
      "source": [
        "new_data = pd.concat([df,data.drop(['first_name', 'last_name', 'gender', 'DOB', 'job_title',\n",
        "       'job_industry_category', 'wealth_segment', 'owns_car',\n",
        "       'state', 'Age_Group'],axis=1)],axis=1)"
      ],
      "execution_count": 51,
      "outputs": []
    },
    {
      "cell_type": "code",
      "metadata": {
        "colab": {
          "base_uri": "https://localhost:8080/"
        },
        "id": "woNL0GQ_j5sd",
        "outputId": "5c2a5099-3c1b-49d8-b2d9-55d10ac5597f"
      },
      "source": [
        "new_data.columns"
      ],
      "execution_count": 43,
      "outputs": [
        {
          "output_type": "execute_result",
          "data": {
            "text/plain": [
              "Index(['past_3_years_bike_related_purchases', 'DOB', 'tenure',\n",
              "       'property_valuation', 'Rank', 'Age', 'first_name_Abner',\n",
              "       'first_name_Adolpho', 'first_name_Adria', 'first_name_Adriane',\n",
              "       ...\n",
              "       'Age_Group_Senior', 'Age_Group_Old',\n",
              "       'past_3_years_bike_related_purchases', 'DOB', 'tenure',\n",
              "       'property_valuation', 'Rank', 'Value', 'Age', 'Age_Group'],\n",
              "      dtype='object', length=1864)"
            ]
          },
          "metadata": {},
          "execution_count": 43
        }
      ]
    },
    {
      "cell_type": "code",
      "metadata": {
        "id": "-2cWxnpzjND-"
      },
      "source": [
        "X = new_data.drop(['Value'],axis=1)\n",
        "y = new_data['Value']"
      ],
      "execution_count": 52,
      "outputs": []
    },
    {
      "cell_type": "code",
      "metadata": {
        "id": "UuifSeWsg2Sl",
        "colab": {
          "base_uri": "https://localhost:8080/"
        },
        "outputId": "d40c34d3-26db-4978-a09a-4bbe467ab045"
      },
      "source": [
        "from sklearn.model_selection import train_test_split\n",
        "# dividing X, y into train and test data\n",
        "X_train, X_test, y_train, y_test = train_test_split(X, y, test_size = 0.3, random_state = 0)\n",
        "print(X_train.shape, X_test.shape, y_train.shape, y_test.shape)"
      ],
      "execution_count": 53,
      "outputs": [
        {
          "output_type": "stream",
          "name": "stdout",
          "text": [
            "(596, 1855) (256, 1855) (596,) (256,)\n"
          ]
        }
      ]
    },
    {
      "cell_type": "code",
      "metadata": {
        "id": "E-g7ISYog5v1"
      },
      "source": [
        "from sklearn.preprocessing import StandardScaler\n",
        "inst = StandardScaler()\n",
        "X_train = pd.DataFrame(inst.fit_transform(X_train))\n",
        "X_test = pd.DataFrame(inst.fit_transform(X_test))"
      ],
      "execution_count": 54,
      "outputs": []
    },
    {
      "cell_type": "code",
      "metadata": {
        "id": "dbNs1tdhafiO"
      },
      "source": [
        "# importing necessary libraries\n",
        "from sklearn import datasets\n",
        "from sklearn import preprocessing\n",
        "from sklearn.metrics import confusion_matrix\n",
        "from sklearn.pipeline import make_pipeline\n",
        "from sklearn.svm import SVR\n",
        "regressor = SVR(kernel = 'rbf')\n",
        "regressor.fit(X_train, y_train)\n",
        "y_pred=regressor.predict(X_test)"
      ],
      "execution_count": 55,
      "outputs": []
    },
    {
      "cell_type": "code",
      "metadata": {
        "colab": {
          "base_uri": "https://localhost:8080/",
          "height": 280
        },
        "id": "5ytMA_U3cfpe",
        "outputId": "b03898ad-0cec-4891-980a-579aa89b40c7"
      },
      "source": [
        "import matplotlib.pyplot as plt\n",
        "plt.scatter(y_test, y_pred)\n",
        "plt.ylabel('Predicted')\n",
        "plt.xlabel('Y test')\n",
        "plt.show()"
      ],
      "execution_count": 56,
      "outputs": [
        {
          "output_type": "display_data",
          "data": {
            "image/png": "[encoded data removed]",
            "text/plain": [
              "<Figure size 432x288 with 1 Axes>"
            ]
          },
          "metadata": {
            "needs_background": "light"
          }
        }
      ]
    },
    {
      "cell_type": "code",
      "metadata": {
        "colab": {
          "base_uri": "https://localhost:8080/"
        },
        "id": "5DIDWjScctXu",
        "outputId": "36abdc48-7293-4171-f34f-5e86eeb99def"
      },
      "source": [
        "from sklearn.metrics import mean_absolute_error, mean_squared_error, r2_score\n",
        "# summarize prediction\n",
        "print('MAE: {}'.format(mean_absolute_error(y_test, y_pred)))\n",
        "print('MSE: {}'.format(mean_squared_error(y_test, y_pred)))\n",
        "print('RMSE: {}'.format(np.sqrt(mean_squared_error(y_test, y_pred))))\n",
        "print('R2: {}'.format(r2_score(y_test, y_pred)))\n",
        "r2 = r2_score(y_test, y_pred)\n",
        "N=y_test.shape[0]\n",
        "p=3\n",
        "x = (1-r2)\n",
        "m = (N-1) / (N-p-1)\n",
        "adj_rsquared = (1 - (x * m))\n",
        "print(\"Adjusted-R2 : \" , adj_rsquared)"
      ],
      "execution_count": 57,
      "outputs": [
        {
          "output_type": "stream",
          "name": "stdout",
          "text": [
            "MAE: 0.20878510470139416\n",
            "MSE: 0.06667282594462158\n",
            "RMSE: 0.25821081686215547\n",
            "R2: 0.24781680365224146\n",
            "Adjusted-R2 :  0.2388622417909586\n"
          ]
        }
      ]
    },
    {
      "cell_type": "code",
      "metadata": {
        "colab": {
          "base_uri": "https://localhost:8080/"
        },
        "id": "CiXR6lt9dNbh",
        "outputId": "aaf2063d-e28f-417f-9566-ecd0c3e0cf7b"
      },
      "source": [
        "regressor = SVR(kernel = 'linear')\n",
        "regressor.fit(X_train, y_train)\n",
        "y_pred=regressor.predict(X_test)\n",
        "regressor.coef_"
      ],
      "execution_count": 58,
      "outputs": [
        {
          "output_type": "execute_result",
          "data": {
            "text/plain": [
              "array([[ 0.00000000e+00, -1.86347248e-20, -2.83393609e-03, ...,\n",
              "         2.11576112e-04, -6.57102674e-02, -1.13666440e-03]])"
            ]
          },
          "metadata": {},
          "execution_count": 58
        }
      ]
    },
    {
      "cell_type": "code",
      "metadata": {
        "id": "4OAsi-Y6dc81"
      },
      "source": [
        "import numpy as np\n",
        "from sklearn.datasets import load_boston\n",
        "from sklearn.linear_model import RidgeCV\n",
        "from sklearn.model_selection import cross_val_score"
      ],
      "execution_count": 59,
      "outputs": []
    },
    {
      "cell_type": "code",
      "metadata": {
        "colab": {
          "base_uri": "https://localhost:8080/"
        },
        "id": "KnQUX9Tudivm",
        "outputId": "da601bad-df04-49f0-f089-32751d9a9c68"
      },
      "source": [
        "np.mean(cross_val_score(RidgeCV(), X_train, y_train, scoring='neg_mean_squared_error'))"
      ],
      "execution_count": 60,
      "outputs": [
        {
          "output_type": "execute_result",
          "data": {
            "text/plain": [
              "-0.04823401996812352"
            ]
          },
          "metadata": {},
          "execution_count": 60
        }
      ]
    },
    {
      "cell_type": "code",
      "metadata": {
        "id": "dwI1Li1Ydki7"
      },
      "source": [
        "from numpy import mean\n",
        "from numpy import std\n",
        "from numpy import absolute\n",
        "from sklearn.model_selection import cross_val_score\n",
        "from sklearn.model_selection import RepeatedKFold\n",
        "from sklearn.linear_model import Lasso"
      ],
      "execution_count": 61,
      "outputs": []
    },
    {
      "cell_type": "code",
      "metadata": {
        "colab": {
          "base_uri": "https://localhost:8080/"
        },
        "id": "vHXdWi8Bd9HG",
        "outputId": "62ce9082-c67f-4a3d-c47e-8e175134ad95"
      },
      "source": [
        "# define model\n",
        "model = Lasso(alpha=1.0)\n",
        "# define model evaluation method\n",
        "cv = RepeatedKFold(n_splits=10, n_repeats=3, random_state=1)\n",
        "# evaluate model\n",
        "scores = cross_val_score(model, X_train, y_train, scoring='neg_mean_absolute_error', cv=cv, n_jobs=-1)\n",
        "# force scores to be positive\n",
        "scores = absolute(scores)\n",
        "print('Mean MAE: %.3f (%.3f)' % (mean(scores), std(scores)))"
      ],
      "execution_count": 62,
      "outputs": [
        {
          "output_type": "stream",
          "name": "stdout",
          "text": [
            "Mean MAE: 0.242 (0.017)\n"
          ]
        }
      ]
    },
    {
      "cell_type": "code",
      "metadata": {
        "id": "xPhrHC8Xd_BY"
      },
      "source": [
        "model.fit(X_train, y_train)\n",
        "y_pred = model.predict(X_test)"
      ],
      "execution_count": 63,
      "outputs": []
    },
    {
      "cell_type": "code",
      "metadata": {
        "colab": {
          "base_uri": "https://localhost:8080/"
        },
        "id": "_cBWH5bueEgq",
        "outputId": "30914591-36fb-4e1b-8962-d160522e0317"
      },
      "source": [
        "# summarize prediction\n",
        "print('MAE: {}'.format(mean_absolute_error(y_test, y_pred)))\n",
        "print('MSE: {}'.format(mean_squared_error(y_test, y_pred)))\n",
        "print('RMSE: {}'.format(np.sqrt(mean_squared_error(y_test, y_pred))))\n",
        "print('R2: {}'.format(r2_score(y_test, y_pred)))\n",
        "r2 = r2_score(y_test, y_pred)\n",
        "N=y_test.shape[0]\n",
        "p=3\n",
        "x = (1-r2)\n",
        "m = (N-1) / (N-p-1)\n",
        "adj_rsquared = (1 - (x * m))\n",
        "print(\"Adjusted-R2 : \" , adj_rsquared)"
      ],
      "execution_count": 64,
      "outputs": [
        {
          "output_type": "stream",
          "name": "stdout",
          "text": [
            "MAE: 0.24388720703125\n",
            "MSE: 0.08864112847438388\n",
            "RMSE: 0.29772660021298714\n",
            "R2: -2.311885076067277e-05\n",
            "Adjusted-R2 :  -0.011928155979936461\n"
          ]
        }
      ]
    },
    {
      "cell_type": "code",
      "metadata": {
        "id": "fPg7nHx1eGeB"
      },
      "source": [
        "# Fitting Random Forest Regression to the dataset\n",
        "# import the regressor\n",
        "from sklearn.ensemble import RandomForestRegressor\n",
        "\n",
        "# create regressor object\n",
        "regressor = RandomForestRegressor(n_estimators = 100, oob_score = True, n_jobs = 1, random_state =1)\n",
        "\n",
        "# fit the regressor with x and y data\n",
        "model = regressor.fit(X_train, y_train)"
      ],
      "execution_count": 65,
      "outputs": []
    },
    {
      "cell_type": "code",
      "metadata": {
        "id": "bd3YStkHeOJs"
      },
      "source": [
        "y_pred=regressor.predict(X_test)"
      ],
      "execution_count": 66,
      "outputs": []
    },
    {
      "cell_type": "code",
      "metadata": {
        "colab": {
          "base_uri": "https://localhost:8080/",
          "height": 279
        },
        "id": "IsaYE7ExeaY1",
        "outputId": "57948674-6cf3-4a2a-b026-239c383049fd"
      },
      "source": [
        "import matplotlib.pyplot as plt\n",
        "plt.scatter(y_test, y_pred)\n",
        "plt.ylabel('Predicted')\n",
        "plt.xlabel('Y test')\n",
        "plt.show()"
      ],
      "execution_count": 67,
      "outputs": [
        {
          "output_type": "display_data",
          "data": {
            "image/png": "[encoded data removed]",
            "text/plain": [
              "<Figure size 432x288 with 1 Axes>"
            ]
          },
          "metadata": {
            "needs_background": "light"
          }
        }
      ]
    },
    {
      "cell_type": "code",
      "metadata": {
        "colab": {
          "base_uri": "https://localhost:8080/"
        },
        "id": "JQWBY8obecwq",
        "outputId": "5435f093-978d-4e68-ea1f-677bb5645a07"
      },
      "source": [
        "print('MAE: {}'.format(mean_absolute_error(y_test, y_pred)))\n",
        "print('MSE: {}'.format(mean_squared_error(y_test, y_pred)))\n",
        "print('RMSE: {}'.format(np.sqrt(mean_squared_error(y_test, y_pred))))\n",
        "print('R2: {}'.format(r2_score(y_test, y_pred)))\n",
        "r2 = r2_score(y_test, y_pred)\n",
        "N=y_test.shape[0]\n",
        "p=3\n",
        "x = (1-r2)\n",
        "m = (N-1) / (N-p-1)\n",
        "adj_rsquared = (1 - (x * m))\n",
        "print(\"Adjusted-R2 : \" , adj_rsquared)"
      ],
      "execution_count": 68,
      "outputs": [
        {
          "output_type": "stream",
          "name": "stdout",
          "text": [
            "MAE: 0.002855504161938369\n",
            "MSE: 4.071308864436578e-05\n",
            "RMSE: 0.0063806808919084634\n",
            "R2: 0.9995406869183084\n",
            "Adjusted-R2 :  0.9995352189054312\n"
          ]
        }
      ]
    },
    {
      "cell_type": "code",
      "metadata": {
        "colab": {
          "base_uri": "https://localhost:8080/",
          "height": 350
        },
        "id": "4TYgkoMzejrC",
        "outputId": "734760ee-875b-4b69-9d13-366386148d03"
      },
      "source": [
        "import seaborn as sns\n",
        "sns.distplot((y_test-y_pred))"
      ],
      "execution_count": 69,
      "outputs": [
        {
          "output_type": "stream",
          "name": "stderr",
          "text": [
            "/usr/local/lib/python3.7/dist-packages/seaborn/distributions.py:2557: FutureWarning: `distplot` is a deprecated function and will be removed in a future version. Please adapt your code to use either `displot` (a figure-level function with similar flexibility) or `histplot` (an axes-level function for histograms).\n",
            "  warnings.warn(msg, FutureWarning)\n"
          ]
        },
        {
          "output_type": "execute_result",
          "data": {
            "text/plain": [
              "<matplotlib.axes._subplots.AxesSubplot at 0x7fa4014efa90>"
            ]
          },
          "metadata": {},
          "execution_count": 69
        },
        {
          "output_type": "display_data",
          "data": {
            "image/png": "[encoded data removed]",
            "text/plain": [
              "<Figure size 432x288 with 1 Axes>"
            ]
          },
          "metadata": {
            "needs_background": "light"
          }
        }
      ]
    },
    {
      "cell_type": "code",
      "metadata": {
        "id": "Zt_8gwRze2OJ"
      },
      "source": [
        ""
      ],
      "execution_count": null,
      "outputs": []
    }
  ]
}